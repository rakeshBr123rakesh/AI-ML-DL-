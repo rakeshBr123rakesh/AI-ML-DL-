{
 "cells": [
  {
   "cell_type": "markdown",
   "id": "d8c79307-1cab-4be7-885a-f174a54a1a45",
   "metadata": {},
   "source": [
    "# Sentimental analysis of swiggy using RNN"
   ]
  },
  {
   "cell_type": "code",
   "execution_count": 1,
   "id": "2063ecea-978d-4ba8-ac2c-574a90abf131",
   "metadata": {},
   "outputs": [],
   "source": [
    "import pandas as pd\n",
    "import numpy as np\n",
    "import re\n",
    "from sklearn.model_selection import train_test_split\n",
    "from tensorflow.keras.layers import Dense,Embedding,SimpleRNN\n",
    "from tensorflow.keras.models import Sequential"
   ]
  },
  {
   "cell_type": "code",
   "execution_count": 2,
   "id": "ddb478fa-37c9-4a07-ac43-96c075a747f2",
   "metadata": {},
   "outputs": [],
   "source": [
    "from tensorflow.keras.preprocessing.text import Tokenizer\n",
    "from tensorflow.keras.preprocessing.sequence import pad_sequences"
   ]
  },
  {
   "cell_type": "code",
   "execution_count": 3,
   "id": "3285c541-6d7a-42dd-aabd-4608bafd5330",
   "metadata": {},
   "outputs": [
    {
     "name": "stdout",
     "output_type": "stream",
     "text": [
      "Columns in a data are:\n",
      "['ID', 'Area', 'City', 'Restaurant Price', 'Avg Rating', 'Total Rating', 'Food Item', 'Food Type', 'Delivery Time', 'Review']\n"
     ]
    }
   ],
   "source": [
    "#Load the data\n",
    "data=pd.read_csv(\"C:/Users/Rakesh/Desktop/career/AI ML AND DL Practice/Data/swiggy.csv\")\n",
    "print(\"Columns in a data are:\")\n",
    "print(data.columns.tolist())"
   ]
  },
  {
   "cell_type": "code",
   "execution_count": 4,
   "id": "833d954a-09ef-43aa-a654-f9cbd5c87517",
   "metadata": {},
   "outputs": [
    {
     "data": {
      "text/html": [
       "<div>\n",
       "<style scoped>\n",
       "    .dataframe tbody tr th:only-of-type {\n",
       "        vertical-align: middle;\n",
       "    }\n",
       "\n",
       "    .dataframe tbody tr th {\n",
       "        vertical-align: top;\n",
       "    }\n",
       "\n",
       "    .dataframe thead th {\n",
       "        text-align: right;\n",
       "    }\n",
       "</style>\n",
       "<table border=\"1\" class=\"dataframe\">\n",
       "  <thead>\n",
       "    <tr style=\"text-align: right;\">\n",
       "      <th></th>\n",
       "      <th>ID</th>\n",
       "      <th>Area</th>\n",
       "      <th>City</th>\n",
       "      <th>Restaurant Price</th>\n",
       "      <th>Avg Rating</th>\n",
       "      <th>Total Rating</th>\n",
       "      <th>Food Item</th>\n",
       "      <th>Food Type</th>\n",
       "      <th>Delivery Time</th>\n",
       "      <th>Review</th>\n",
       "    </tr>\n",
       "  </thead>\n",
       "  <tbody>\n",
       "    <tr>\n",
       "      <th>0</th>\n",
       "      <td>1</td>\n",
       "      <td>Suburb</td>\n",
       "      <td>Ahmedabad</td>\n",
       "      <td>600</td>\n",
       "      <td>4.2</td>\n",
       "      <td>6198</td>\n",
       "      <td>Sushi</td>\n",
       "      <td>Fast Food</td>\n",
       "      <td>30-40 min</td>\n",
       "      <td>Good, but nothing extraordinary.</td>\n",
       "    </tr>\n",
       "    <tr>\n",
       "      <th>1</th>\n",
       "      <td>2</td>\n",
       "      <td>Business District</td>\n",
       "      <td>Pune</td>\n",
       "      <td>200</td>\n",
       "      <td>4.7</td>\n",
       "      <td>4865</td>\n",
       "      <td>Pepperoni Pizza</td>\n",
       "      <td>Non-Vegetarian</td>\n",
       "      <td>50-60 min</td>\n",
       "      <td>Good, but nothing extraordinary.</td>\n",
       "    </tr>\n",
       "    <tr>\n",
       "      <th>2</th>\n",
       "      <td>3</td>\n",
       "      <td>Suburb</td>\n",
       "      <td>Bangalore</td>\n",
       "      <td>600</td>\n",
       "      <td>4.7</td>\n",
       "      <td>2095</td>\n",
       "      <td>Waffles</td>\n",
       "      <td>Fast Food</td>\n",
       "      <td>50-60 min</td>\n",
       "      <td>Late delivery ruined it.</td>\n",
       "    </tr>\n",
       "    <tr>\n",
       "      <th>3</th>\n",
       "      <td>4</td>\n",
       "      <td>Business District</td>\n",
       "      <td>Mumbai</td>\n",
       "      <td>900</td>\n",
       "      <td>4.0</td>\n",
       "      <td>6639</td>\n",
       "      <td>Sushi</td>\n",
       "      <td>Vegetarian</td>\n",
       "      <td>50-60 min</td>\n",
       "      <td>Best meal I've had in a while!</td>\n",
       "    </tr>\n",
       "    <tr>\n",
       "      <th>4</th>\n",
       "      <td>5</td>\n",
       "      <td>Tech Park</td>\n",
       "      <td>Mumbai</td>\n",
       "      <td>200</td>\n",
       "      <td>4.7</td>\n",
       "      <td>6926</td>\n",
       "      <td>Spring Rolls</td>\n",
       "      <td>Gluten-Free</td>\n",
       "      <td>20-30 min</td>\n",
       "      <td>Mediocre experience.</td>\n",
       "    </tr>\n",
       "  </tbody>\n",
       "</table>\n",
       "</div>"
      ],
      "text/plain": [
       "   ID               Area       City  Restaurant Price  Avg Rating  \\\n",
       "0   1             Suburb  Ahmedabad               600         4.2   \n",
       "1   2  Business District       Pune               200         4.7   \n",
       "2   3             Suburb  Bangalore               600         4.7   \n",
       "3   4  Business District     Mumbai               900         4.0   \n",
       "4   5          Tech Park     Mumbai               200         4.7   \n",
       "\n",
       "   Total Rating        Food Item       Food Type Delivery Time  \\\n",
       "0          6198            Sushi       Fast Food     30-40 min   \n",
       "1          4865  Pepperoni Pizza  Non-Vegetarian     50-60 min   \n",
       "2          2095          Waffles       Fast Food     50-60 min   \n",
       "3          6639            Sushi      Vegetarian     50-60 min   \n",
       "4          6926     Spring Rolls     Gluten-Free     20-30 min   \n",
       "\n",
       "                             Review  \n",
       "0  Good, but nothing extraordinary.  \n",
       "1  Good, but nothing extraordinary.  \n",
       "2          Late delivery ruined it.  \n",
       "3    Best meal I've had in a while!  \n",
       "4              Mediocre experience.  "
      ]
     },
     "execution_count": 4,
     "metadata": {},
     "output_type": "execute_result"
    }
   ],
   "source": [
    "data.head()"
   ]
  },
  {
   "cell_type": "code",
   "execution_count": 5,
   "id": "1ea40443-5afe-4ff7-a646-acd5fe0f492d",
   "metadata": {},
   "outputs": [],
   "source": [
    "data[\"Review\"]=data[\"Review\"].str.lower()\n",
    "data[\"Review\"]=data[\"Review\"].replace(r'[^a-z0-9\\s]','',regex=True)"
   ]
  },
  {
   "cell_type": "code",
   "execution_count": 6,
   "id": "11e63e43-029a-4f29-8839-a99bb6fa2041",
   "metadata": {},
   "outputs": [],
   "source": [
    "data[\"sentiment\"]=data[\"Avg Rating\"].apply(lambda x: 1 if x>3.5 else 0)"
   ]
  },
  {
   "cell_type": "code",
   "execution_count": 7,
   "id": "b2e1d9e2-166f-4815-bcd8-7262641d6461",
   "metadata": {},
   "outputs": [],
   "source": [
    "data=data.dropna()"
   ]
  },
  {
   "cell_type": "code",
   "execution_count": 8,
   "id": "31ca5f17-d93b-46b9-8385-5ce641fc5b21",
   "metadata": {},
   "outputs": [
    {
     "data": {
      "text/html": [
       "<div>\n",
       "<style scoped>\n",
       "    .dataframe tbody tr th:only-of-type {\n",
       "        vertical-align: middle;\n",
       "    }\n",
       "\n",
       "    .dataframe tbody tr th {\n",
       "        vertical-align: top;\n",
       "    }\n",
       "\n",
       "    .dataframe thead th {\n",
       "        text-align: right;\n",
       "    }\n",
       "</style>\n",
       "<table border=\"1\" class=\"dataframe\">\n",
       "  <thead>\n",
       "    <tr style=\"text-align: right;\">\n",
       "      <th></th>\n",
       "      <th>ID</th>\n",
       "      <th>Area</th>\n",
       "      <th>City</th>\n",
       "      <th>Restaurant Price</th>\n",
       "      <th>Avg Rating</th>\n",
       "      <th>Total Rating</th>\n",
       "      <th>Food Item</th>\n",
       "      <th>Food Type</th>\n",
       "      <th>Delivery Time</th>\n",
       "      <th>Review</th>\n",
       "      <th>sentiment</th>\n",
       "    </tr>\n",
       "  </thead>\n",
       "  <tbody>\n",
       "    <tr>\n",
       "      <th>0</th>\n",
       "      <td>1</td>\n",
       "      <td>Suburb</td>\n",
       "      <td>Ahmedabad</td>\n",
       "      <td>600</td>\n",
       "      <td>4.2</td>\n",
       "      <td>6198</td>\n",
       "      <td>Sushi</td>\n",
       "      <td>Fast Food</td>\n",
       "      <td>30-40 min</td>\n",
       "      <td>good but nothing extraordinary</td>\n",
       "      <td>1</td>\n",
       "    </tr>\n",
       "    <tr>\n",
       "      <th>1</th>\n",
       "      <td>2</td>\n",
       "      <td>Business District</td>\n",
       "      <td>Pune</td>\n",
       "      <td>200</td>\n",
       "      <td>4.7</td>\n",
       "      <td>4865</td>\n",
       "      <td>Pepperoni Pizza</td>\n",
       "      <td>Non-Vegetarian</td>\n",
       "      <td>50-60 min</td>\n",
       "      <td>good but nothing extraordinary</td>\n",
       "      <td>1</td>\n",
       "    </tr>\n",
       "    <tr>\n",
       "      <th>2</th>\n",
       "      <td>3</td>\n",
       "      <td>Suburb</td>\n",
       "      <td>Bangalore</td>\n",
       "      <td>600</td>\n",
       "      <td>4.7</td>\n",
       "      <td>2095</td>\n",
       "      <td>Waffles</td>\n",
       "      <td>Fast Food</td>\n",
       "      <td>50-60 min</td>\n",
       "      <td>late delivery ruined it</td>\n",
       "      <td>1</td>\n",
       "    </tr>\n",
       "    <tr>\n",
       "      <th>3</th>\n",
       "      <td>4</td>\n",
       "      <td>Business District</td>\n",
       "      <td>Mumbai</td>\n",
       "      <td>900</td>\n",
       "      <td>4.0</td>\n",
       "      <td>6639</td>\n",
       "      <td>Sushi</td>\n",
       "      <td>Vegetarian</td>\n",
       "      <td>50-60 min</td>\n",
       "      <td>best meal ive had in a while</td>\n",
       "      <td>1</td>\n",
       "    </tr>\n",
       "    <tr>\n",
       "      <th>4</th>\n",
       "      <td>5</td>\n",
       "      <td>Tech Park</td>\n",
       "      <td>Mumbai</td>\n",
       "      <td>200</td>\n",
       "      <td>4.7</td>\n",
       "      <td>6926</td>\n",
       "      <td>Spring Rolls</td>\n",
       "      <td>Gluten-Free</td>\n",
       "      <td>20-30 min</td>\n",
       "      <td>mediocre experience</td>\n",
       "      <td>1</td>\n",
       "    </tr>\n",
       "  </tbody>\n",
       "</table>\n",
       "</div>"
      ],
      "text/plain": [
       "   ID               Area       City  Restaurant Price  Avg Rating  \\\n",
       "0   1             Suburb  Ahmedabad               600         4.2   \n",
       "1   2  Business District       Pune               200         4.7   \n",
       "2   3             Suburb  Bangalore               600         4.7   \n",
       "3   4  Business District     Mumbai               900         4.0   \n",
       "4   5          Tech Park     Mumbai               200         4.7   \n",
       "\n",
       "   Total Rating        Food Item       Food Type Delivery Time  \\\n",
       "0          6198            Sushi       Fast Food     30-40 min   \n",
       "1          4865  Pepperoni Pizza  Non-Vegetarian     50-60 min   \n",
       "2          2095          Waffles       Fast Food     50-60 min   \n",
       "3          6639            Sushi      Vegetarian     50-60 min   \n",
       "4          6926     Spring Rolls     Gluten-Free     20-30 min   \n",
       "\n",
       "                           Review  sentiment  \n",
       "0  good but nothing extraordinary          1  \n",
       "1  good but nothing extraordinary          1  \n",
       "2         late delivery ruined it          1  \n",
       "3    best meal ive had in a while          1  \n",
       "4             mediocre experience          1  "
      ]
     },
     "execution_count": 8,
     "metadata": {},
     "output_type": "execute_result"
    }
   ],
   "source": [
    "data.head()"
   ]
  },
  {
   "cell_type": "code",
   "execution_count": 9,
   "id": "1bf46dcd-a206-4b35-a64c-e255115560e3",
   "metadata": {},
   "outputs": [],
   "source": [
    "max_features=500\n",
    "max_length=200\n",
    "tokenizer=Tokenizer(num_words=max_features)\n",
    "tokenizer.fit_on_texts(data[\"Review\"])\n",
    "x=pad_sequences(tokenizer.texts_to_sequences(data[\"Review\"]),maxlen=max_length)"
   ]
  },
  {
   "cell_type": "code",
   "execution_count": 10,
   "id": "bbf12945-76ad-4ea6-9c4b-7af2881b7498",
   "metadata": {},
   "outputs": [],
   "source": [
    "y=data[\"sentiment\"].values"
   ]
  },
  {
   "cell_type": "code",
   "execution_count": 11,
   "id": "337434cb-b909-4c56-a727-f59f5254f3b0",
   "metadata": {},
   "outputs": [],
   "source": [
    "X_train,X_test,y_train,y_test=train_test_split(x,y,test_size=0.2,random_state=43,stratify=y)"
   ]
  },
  {
   "cell_type": "code",
   "execution_count": 12,
   "id": "b0a01770-b942-4a05-a57e-ab41b82b7a9a",
   "metadata": {},
   "outputs": [],
   "source": [
    "X_train,X_val,y_train,y_val=train_test_split(X_train,y_train,test_size=0.2,random_state=42,stratify=y_train)"
   ]
  },
  {
   "cell_type": "code",
   "execution_count": 13,
   "id": "fd38af0f-4c0d-4611-8517-be601f33d42b",
   "metadata": {},
   "outputs": [],
   "source": [
    "model=Sequential()"
   ]
  },
  {
   "cell_type": "code",
   "execution_count": 14,
   "id": "268e05bc-926a-4149-92ae-5710e2c8b82c",
   "metadata": {},
   "outputs": [
    {
     "name": "stderr",
     "output_type": "stream",
     "text": [
      "C:\\Users\\Rakesh\\AppData\\Roaming\\Python\\Python313\\site-packages\\keras\\src\\layers\\core\\embedding.py:97: UserWarning: Argument `input_length` is deprecated. Just remove it.\n",
      "  warnings.warn(\n"
     ]
    }
   ],
   "source": [
    "model.add(Embedding(input_dim=max_features,output_dim=16,input_length=max_length))\n",
    "model.add(SimpleRNN(64,activation=\"tanh\",return_sequences=False))\n",
    "model.add(Dense(1,activation=\"sigmoid\"))"
   ]
  },
  {
   "cell_type": "code",
   "execution_count": 15,
   "id": "2db8d6f6-f580-4e10-ab9a-68ff2fd34231",
   "metadata": {},
   "outputs": [],
   "source": [
    "model.compile(optimizer=\"adam\",\n",
    "              loss=\"binary_crossentropy\",\n",
    "              metrics=[\"accuracy\"])"
   ]
  },
  {
   "cell_type": "code",
   "execution_count": 16,
   "id": "a0a3c807-e4da-4d7d-80f4-203f61f7e19c",
   "metadata": {},
   "outputs": [
    {
     "name": "stdout",
     "output_type": "stream",
     "text": [
      "Epoch 1/5\n",
      "\u001b[1m160/160\u001b[0m \u001b[32m━━━━━━━━━━━━━━━━━━━━\u001b[0m\u001b[37m\u001b[0m \u001b[1m8s\u001b[0m 32ms/step - accuracy: 0.6955 - loss: 0.6109 - val_accuracy: 0.7156 - val_loss: 0.6031\n",
      "Epoch 2/5\n",
      "\u001b[1m160/160\u001b[0m \u001b[32m━━━━━━━━━━━━━━━━━━━━\u001b[0m\u001b[37m\u001b[0m \u001b[1m4s\u001b[0m 27ms/step - accuracy: 0.7160 - loss: 0.5967 - val_accuracy: 0.7156 - val_loss: 0.5994\n",
      "Epoch 3/5\n",
      "\u001b[1m160/160\u001b[0m \u001b[32m━━━━━━━━━━━━━━━━━━━━\u001b[0m\u001b[37m\u001b[0m \u001b[1m4s\u001b[0m 27ms/step - accuracy: 0.7160 - loss: 0.5958 - val_accuracy: 0.7156 - val_loss: 0.6042\n",
      "Epoch 4/5\n",
      "\u001b[1m160/160\u001b[0m \u001b[32m━━━━━━━━━━━━━━━━━━━━\u001b[0m\u001b[37m\u001b[0m \u001b[1m4s\u001b[0m 27ms/step - accuracy: 0.7160 - loss: 0.5964 - val_accuracy: 0.7156 - val_loss: 0.6012\n",
      "Epoch 5/5\n",
      "\u001b[1m160/160\u001b[0m \u001b[32m━━━━━━━━━━━━━━━━━━━━\u001b[0m\u001b[37m\u001b[0m \u001b[1m4s\u001b[0m 27ms/step - accuracy: 0.7160 - loss: 0.5958 - val_accuracy: 0.7156 - val_loss: 0.6025\n"
     ]
    }
   ],
   "source": [
    "history=model.fit(X_train,y_train,\n",
    "                  epochs=5,\n",
    "                  batch_size=32,\n",
    "                  validation_data=(X_val,y_val),\n",
    "                  verbose=1)"
   ]
  },
  {
   "cell_type": "code",
   "execution_count": 17,
   "id": "c509a1b7-5d76-4ea4-a1fe-b906cf4c74c7",
   "metadata": {},
   "outputs": [
    {
     "name": "stdout",
     "output_type": "stream",
     "text": [
      "\u001b[1m40/40\u001b[0m \u001b[32m━━━━━━━━━━━━━━━━━━━━\u001b[0m\u001b[37m\u001b[0m \u001b[1m0s\u001b[0m 11ms/step - accuracy: 0.7156 - loss: 0.6025\n"
     ]
    }
   ],
   "source": [
    "score=model.evaluate(X_val,y_val,verbose=1)"
   ]
  },
  {
   "cell_type": "code",
   "execution_count": 18,
   "id": "aae8d780-e3e5-49b5-b3d9-265f52ab6906",
   "metadata": {},
   "outputs": [
    {
     "name": "stdout",
     "output_type": "stream",
     "text": [
      "Test accuracy is :0.715624988079071\n"
     ]
    }
   ],
   "source": [
    "print(f\"Test accuracy is :{score[1]}\")"
   ]
  },
  {
   "cell_type": "code",
   "execution_count": 19,
   "id": "a9176b17-ecb7-4ed0-bd68-72f804ddcd30",
   "metadata": {},
   "outputs": [],
   "source": [
    "def sentiment_analyse(review_text):\n",
    "    text = review_text.lower()\n",
    "    text = re.sub(r'[^a-z0-9\\s]', '', text)\n",
    "\n",
    "    seq = tokenizer.texts_to_sequences([text])\n",
    "    padded = pad_sequences(seq, maxlen=max_length)\n",
    "\n",
    "    prediction = model.predict(padded)[0][0]\n",
    "    return f\"{'Positive' if prediction >= 0.5 else 'Negative'} (Probability: {prediction:.2f})\"\n"
   ]
  },
  {
   "cell_type": "code",
   "execution_count": 20,
   "id": "9c883417-7bcc-4465-933c-5c8fc59f2a28",
   "metadata": {},
   "outputs": [
    {
     "name": "stdout",
     "output_type": "stream",
     "text": [
      "Sample data is Food was amazing\n",
      "\u001b[1m1/1\u001b[0m \u001b[32m━━━━━━━━━━━━━━━━━━━━\u001b[0m\u001b[37m\u001b[0m \u001b[1m0s\u001b[0m 281ms/step\n",
      " the sentiment is Positive (Probability: 0.73)\n"
     ]
    }
   ],
   "source": [
    "\n",
    "sample_review=\"Food was amazing\"\n",
    "print(f\"Sample data is {sample_review}\")\n",
    "print(f\" the sentiment is {sentiment_analyse(sample_review)}\")"
   ]
  },
  {
   "cell_type": "code",
   "execution_count": 21,
   "id": "c8dc11f1-7193-4d82-9808-98cd130d1659",
   "metadata": {},
   "outputs": [
    {
     "name": "stdout",
     "output_type": "stream",
     "text": [
      "Sample data is Highly recommended\n",
      "\u001b[1m1/1\u001b[0m \u001b[32m━━━━━━━━━━━━━━━━━━━━\u001b[0m\u001b[37m\u001b[0m \u001b[1m0s\u001b[0m 62ms/step\n",
      " the sentiment is Positive (Probability: 0.74)\n"
     ]
    }
   ],
   "source": [
    "sample_review=\"Highly recommended\"\n",
    "print(f\"Sample data is {sample_review}\")\n",
    "print(f\" the sentiment is {sentiment_analyse(sample_review)}\")"
   ]
  },
  {
   "cell_type": "code",
   "execution_count": 43,
   "id": "aa7587a3-92dd-44bf-ab14-0f29ce13b038",
   "metadata": {},
   "outputs": [
    {
     "name": "stdout",
     "output_type": "stream",
     "text": [
      "Sample data is Neighter great nor bad\n",
      "\u001b[1m1/1\u001b[0m \u001b[32m━━━━━━━━━━━━━━━━━━━━\u001b[0m\u001b[37m\u001b[0m \u001b[1m0s\u001b[0m 79ms/step\n",
      " the sentiment is Positive (Probability: 0.73)\n"
     ]
    }
   ],
   "source": [
    "sample_review=\"Neighter great nor bad\"\n",
    "print(f\"Sample data is {sample_review}\")\n",
    "print(f\" the sentiment is {sentiment_analyse(sample_review)}\")"
   ]
  },
  {
   "cell_type": "markdown",
   "id": "8b1b6b16-9aae-41af-9288-457587a5c78d",
   "metadata": {},
   "source": [
    "# Implementation of bidirectional RNN"
   ]
  },
  {
   "cell_type": "code",
   "execution_count": 46,
   "id": "6f9ba415-d560-466a-9b86-fe53ad752e29",
   "metadata": {},
   "outputs": [],
   "source": [
    "import warnings\n",
    "warnings.filterwarnings(\"ignore\")\n",
    "from keras.datasets import imdb\n",
    "from keras.preprocessing.sequence import pad_sequences"
   ]
  },
  {
   "cell_type": "code",
   "execution_count": 51,
   "id": "aec54d75-186a-418b-9cf2-53ed9818d48e",
   "metadata": {},
   "outputs": [],
   "source": [
    "features=2000\n",
    "max_len=50\n",
    "(X_train,y_train),(X_test,y_test)=imdb.load_data(num_words=features)"
   ]
  },
  {
   "cell_type": "code",
   "execution_count": 52,
   "id": "ad9339de-1bbc-4cb6-a9ec-802d7cc1c1ea",
   "metadata": {},
   "outputs": [],
   "source": [
    "#Defining model architecture\n",
    "from keras.models import Sequential\n",
    "from keras.layers import Embedding, Bidirectional, SimpleRNN, Dense\n",
    "\n",
    "embedding_dim = 128  \n",
    "hidden_units = 64    \n",
    "\n",
    "model = Sequential()\n",
    "\n",
    "model.add(Embedding(features, embedding_dim, input_length=max_len))\n",
    "\n",
    "model.add(Bidirectional(SimpleRNN(hidden_units)))\n",
    "\n",
    "model.add(Dense(1, activation='sigmoid'))\n",
    "\n",
    "model.compile(optimizer='adam', loss='binary_crossentropy', metrics=['accuracy'])"
   ]
  },
  {
   "cell_type": "code",
   "execution_count": 54,
   "id": "73ee1fb6-80aa-4cc3-b421-7690f702e33d",
   "metadata": {},
   "outputs": [
    {
     "ename": "ValueError",
     "evalue": "Invalid dtype: object",
     "output_type": "error",
     "traceback": [
      "\u001b[1;31m---------------------------------------------------------------------------\u001b[0m",
      "\u001b[1;31mValueError\u001b[0m                                Traceback (most recent call last)",
      "Cell \u001b[1;32mIn[54], line 4\u001b[0m\n\u001b[0;32m      1\u001b[0m batch_size \u001b[38;5;241m=\u001b[39m \u001b[38;5;241m32\u001b[39m\n\u001b[0;32m      2\u001b[0m epochs \u001b[38;5;241m=\u001b[39m \u001b[38;5;241m5\u001b[39m\n\u001b[1;32m----> 4\u001b[0m model\u001b[38;5;241m.\u001b[39mfit(X_train, y_train,\n\u001b[0;32m      5\u001b[0m           batch_size\u001b[38;5;241m=\u001b[39mbatch_size,\n\u001b[0;32m      6\u001b[0m           epochs\u001b[38;5;241m=\u001b[39mepochs,\n\u001b[0;32m      7\u001b[0m           validation_data\u001b[38;5;241m=\u001b[39m(X_test, y_test))\n",
      "File \u001b[1;32m~\\AppData\\Roaming\\Python\\Python313\\site-packages\\keras\\src\\utils\\traceback_utils.py:122\u001b[0m, in \u001b[0;36mfilter_traceback.<locals>.error_handler\u001b[1;34m(*args, **kwargs)\u001b[0m\n\u001b[0;32m    119\u001b[0m     filtered_tb \u001b[38;5;241m=\u001b[39m _process_traceback_frames(e\u001b[38;5;241m.\u001b[39m__traceback__)\n\u001b[0;32m    120\u001b[0m     \u001b[38;5;66;03m# To get the full stack trace, call:\u001b[39;00m\n\u001b[0;32m    121\u001b[0m     \u001b[38;5;66;03m# `keras.config.disable_traceback_filtering()`\u001b[39;00m\n\u001b[1;32m--> 122\u001b[0m     \u001b[38;5;28;01mraise\u001b[39;00m e\u001b[38;5;241m.\u001b[39mwith_traceback(filtered_tb) \u001b[38;5;28;01mfrom\u001b[39;00m\u001b[38;5;250m \u001b[39m\u001b[38;5;28;01mNone\u001b[39;00m\n\u001b[0;32m    123\u001b[0m \u001b[38;5;28;01mfinally\u001b[39;00m:\n\u001b[0;32m    124\u001b[0m     \u001b[38;5;28;01mdel\u001b[39;00m filtered_tb\n",
      "File \u001b[1;32m~\\AppData\\Roaming\\Python\\Python313\\site-packages\\optree\\ops.py:766\u001b[0m, in \u001b[0;36mtree_map\u001b[1;34m(func, tree, is_leaf, none_is_leaf, namespace, *rests)\u001b[0m\n\u001b[0;32m    764\u001b[0m leaves, treespec \u001b[38;5;241m=\u001b[39m _C\u001b[38;5;241m.\u001b[39mflatten(tree, is_leaf, none_is_leaf, namespace)\n\u001b[0;32m    765\u001b[0m flat_args \u001b[38;5;241m=\u001b[39m [leaves] \u001b[38;5;241m+\u001b[39m [treespec\u001b[38;5;241m.\u001b[39mflatten_up_to(r) \u001b[38;5;28;01mfor\u001b[39;00m r \u001b[38;5;129;01min\u001b[39;00m rests]\n\u001b[1;32m--> 766\u001b[0m \u001b[38;5;28;01mreturn\u001b[39;00m treespec\u001b[38;5;241m.\u001b[39munflatten(\u001b[38;5;28mmap\u001b[39m(func, \u001b[38;5;241m*\u001b[39mflat_args))\n",
      "\u001b[1;31mValueError\u001b[0m: Invalid dtype: object"
     ]
    }
   ],
   "source": [
    "batch_size = 32\n",
    "epochs = 5\n",
    "\n",
    "model.fit(X_train, y_train,\n",
    "          batch_size=batch_size,\n",
    "          epochs=epochs,\n",
    "          validation_data=(X_test, y_test))"
   ]
  },
  {
   "cell_type": "code",
   "execution_count": null,
   "id": "cd6e8eab-9a6b-4a9f-8e82-8b01c88ca65a",
   "metadata": {},
   "outputs": [],
   "source": []
  }
 ],
 "metadata": {
  "kernelspec": {
   "display_name": "Python [conda env:base] *",
   "language": "python",
   "name": "conda-base-py"
  },
  "language_info": {
   "codemirror_mode": {
    "name": "ipython",
    "version": 3
   },
   "file_extension": ".py",
   "mimetype": "text/x-python",
   "name": "python",
   "nbconvert_exporter": "python",
   "pygments_lexer": "ipython3",
   "version": "3.13.5"
  }
 },
 "nbformat": 4,
 "nbformat_minor": 5
}
