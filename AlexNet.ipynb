{
 "cells": [
  {
   "cell_type": "markdown",
   "id": "c64b55b1-a4c3-49e5-8fd8-bcaf34494d72",
   "metadata": {},
   "source": [
    "# AlexNet"
   ]
  },
  {
   "cell_type": "code",
   "execution_count": 1,
   "id": "269938f7-e398-4bfc-87cd-357490b59e13",
   "metadata": {},
   "outputs": [],
   "source": [
    "import tensorflow as tf\n",
    "from tensorflow.keras.models import Sequential \n",
    "from tensorflow.keras.layers import MaxPooling2D,Flatten,Dense,Dropout,BatchNormalization,Conv2D,Activation\n",
    "from tensorflow.keras.datasets import cifar10\n",
    "from tensorflow.keras.utils import to_categorical\n",
    "import matplotlib.pyplot as plt"
   ]
  },
  {
   "cell_type": "code",
   "execution_count": 2,
   "id": "8daf2234-0fa7-4a97-9f2e-5d5589f2707f",
   "metadata": {},
   "outputs": [],
   "source": [
    "# load the data\n",
    "(X_train,y_train),(X_test,y_test)=cifar10.load_data()\n",
    "#Normalize the pixel values\n",
    "X_train=X_train.astype(\"float32\")/255.0\n",
    "X_test=X_test.astype(\"float32\")/255.0\n",
    "\n",
    "# one hot encoding\n",
    "y_train=to_categorical(y_train,10)\n",
    "y_test=to_categorical(y_test,10)"
   ]
  },
  {
   "cell_type": "code",
   "execution_count": 3,
   "id": "fbacfdb2-f46f-49dd-b16d-7e889fd68253",
   "metadata": {},
   "outputs": [
    {
     "name": "stderr",
     "output_type": "stream",
     "text": [
      "C:\\Users\\Rakesh\\AppData\\Roaming\\Python\\Python313\\site-packages\\keras\\src\\layers\\convolutional\\base_conv.py:113: UserWarning: Do not pass an `input_shape`/`input_dim` argument to a layer. When using Sequential models, prefer using an `Input(shape)` object as the first layer in the model instead.\n",
      "  super().__init__(activity_regularizer=activity_regularizer, **kwargs)\n"
     ]
    }
   ],
   "source": [
    "# creating the sequential model\n",
    "model=Sequential()\n",
    "\n",
    "# layer 1\n",
    "model.add(tf.keras.layers.Conv2D(96,kernel_size=(3,3),strides=(1,1),input_shape=(32,32,3),padding=\"SAME\"))\n",
    "model.add(tf.keras.layers.Activation(\"relu\"))\n",
    "model.add(MaxPooling2D(pool_size=(2,2),strides=(2,2)))\n",
    "model.add(BatchNormalization())\n",
    "\n",
    "#layer2\n",
    "model.add(Conv2D(256,kernel_size=(3,3),strides=(1,1),padding=\"SAME\"))\n",
    "model.add(Activation(\"relu\"))\n",
    "model.add(MaxPooling2D(pool_size=(2,2),strides=(2,2)))\n",
    "model.add(BatchNormalization())"
   ]
  },
  {
   "cell_type": "code",
   "execution_count": 4,
   "id": "5bc62da5-8011-47bf-8b64-9ad12ba7045c",
   "metadata": {},
   "outputs": [],
   "source": [
    "#Layer3\n",
    "model.add(Conv2D(384,kernel_size=(3,3),strides=(1,1),padding=\"SAME\"))\n",
    "model.add(Activation(\"relu\"))"
   ]
  },
  {
   "cell_type": "code",
   "execution_count": 5,
   "id": "247597bc-52a2-4cd2-bf8e-bf11e63eb802",
   "metadata": {},
   "outputs": [],
   "source": [
    "# Layer 4\n",
    "model.add(Conv2D(384,kernel_size=(3,3),strides=(1,1),padding=\"SAME\"))\n",
    "model.add(Activation(\"relu\"))"
   ]
  },
  {
   "cell_type": "code",
   "execution_count": 6,
   "id": "f85f34bf-4f7a-4b05-a3eb-23ade444078f",
   "metadata": {},
   "outputs": [],
   "source": [
    "model.add(Conv2D(256,kernel_size=(3,3),strides=(1,1),padding=\"SAME\"))\n",
    "model.add(Activation(\"relu\"))\n",
    "model.add(MaxPooling2D(pool_size=(2,2),strides=(2,2)))"
   ]
  },
  {
   "cell_type": "code",
   "execution_count": 7,
   "id": "81cf4568-9d63-4b6b-a3b0-6f1bb23e03c5",
   "metadata": {},
   "outputs": [],
   "source": [
    "# Flatten layer\n",
    "model.add(Flatten())"
   ]
  },
  {
   "cell_type": "code",
   "execution_count": 8,
   "id": "d31c506c-dff7-4611-abbf-2b7f9825f030",
   "metadata": {},
   "outputs": [],
   "source": [
    "#Fully connected layer 1\n",
    "model.add(Dense(1024))\n",
    "model.add(Activation(\"relu\"))\n",
    "model.add(Dropout(0.5))\n"
   ]
  },
  {
   "cell_type": "code",
   "execution_count": 9,
   "id": "04177b38-31d1-4193-9140-940b55c8631d",
   "metadata": {},
   "outputs": [],
   "source": [
    "# Fully connected layer 2\n",
    "model.add(Dense(512))\n",
    "model.add(Activation(\"relu\"))\n",
    "model.add(Dropout(0.5))\n",
    "          "
   ]
  },
  {
   "cell_type": "code",
   "execution_count": 10,
   "id": "b08d81d3-846e-40d7-9fe4-ef8f7d273b84",
   "metadata": {},
   "outputs": [],
   "source": [
    "# outputlayer or Softmax layer\n",
    "model.add(Dense(10))\n",
    "model.add(Activation(\"softmax\"))"
   ]
  },
  {
   "cell_type": "code",
   "execution_count": 11,
   "id": "c23c0e81-19e7-4e98-811f-cddd202e1ed3",
   "metadata": {},
   "outputs": [],
   "source": [
    "model.compile(optimizer=\"adam\",\n",
    "              loss=\"categorical_crossentropy\",\n",
    "              metrics=([\"accuracy\"]))"
   ]
  },
  {
   "cell_type": "code",
   "execution_count": 12,
   "id": "1d670b06-19f4-444a-8aeb-76baefcf62cc",
   "metadata": {},
   "outputs": [
    {
     "name": "stdout",
     "output_type": "stream",
     "text": [
      "Epoch 1/15\n",
      "\u001b[1m313/313\u001b[0m \u001b[32m━━━━━━━━━━━━━━━━━━━━\u001b[0m\u001b[37m\u001b[0m \u001b[1m362s\u001b[0m 1s/step - accuracy: 0.4290 - loss: 1.5648 - val_accuracy: 0.0980 - val_loss: 8.5074\n",
      "Epoch 2/15\n",
      "\u001b[1m313/313\u001b[0m \u001b[32m━━━━━━━━━━━━━━━━━━━━\u001b[0m\u001b[37m\u001b[0m \u001b[1m343s\u001b[0m 1s/step - accuracy: 0.6156 - loss: 1.1055 - val_accuracy: 0.4803 - val_loss: 1.5481\n",
      "Epoch 3/15\n",
      "\u001b[1m313/313\u001b[0m \u001b[32m━━━━━━━━━━━━━━━━━━━━\u001b[0m\u001b[37m\u001b[0m \u001b[1m360s\u001b[0m 1s/step - accuracy: 0.6864 - loss: 0.9110 - val_accuracy: 0.6619 - val_loss: 0.9681\n",
      "Epoch 4/15\n",
      "\u001b[1m313/313\u001b[0m \u001b[32m━━━━━━━━━━━━━━━━━━━━\u001b[0m\u001b[37m\u001b[0m \u001b[1m345s\u001b[0m 1s/step - accuracy: 0.7405 - loss: 0.7632 - val_accuracy: 0.6717 - val_loss: 0.9688\n",
      "Epoch 5/15\n",
      "\u001b[1m313/313\u001b[0m \u001b[32m━━━━━━━━━━━━━━━━━━━━\u001b[0m\u001b[37m\u001b[0m \u001b[1m336s\u001b[0m 1s/step - accuracy: 0.7774 - loss: 0.6536 - val_accuracy: 0.7186 - val_loss: 0.8240\n",
      "Epoch 6/15\n",
      "\u001b[1m313/313\u001b[0m \u001b[32m━━━━━━━━━━━━━━━━━━━━\u001b[0m\u001b[37m\u001b[0m \u001b[1m334s\u001b[0m 1s/step - accuracy: 0.8078 - loss: 0.5644 - val_accuracy: 0.7221 - val_loss: 0.8378\n",
      "Epoch 7/15\n",
      "\u001b[1m313/313\u001b[0m \u001b[32m━━━━━━━━━━━━━━━━━━━━\u001b[0m\u001b[37m\u001b[0m \u001b[1m345s\u001b[0m 1s/step - accuracy: 0.8345 - loss: 0.4866 - val_accuracy: 0.6649 - val_loss: 1.1199\n",
      "Epoch 8/15\n",
      "\u001b[1m313/313\u001b[0m \u001b[32m━━━━━━━━━━━━━━━━━━━━\u001b[0m\u001b[37m\u001b[0m \u001b[1m868s\u001b[0m 3s/step - accuracy: 0.8570 - loss: 0.4196 - val_accuracy: 0.7279 - val_loss: 0.9757\n",
      "Epoch 9/15\n",
      "\u001b[1m313/313\u001b[0m \u001b[32m━━━━━━━━━━━━━━━━━━━━\u001b[0m\u001b[37m\u001b[0m \u001b[1m257s\u001b[0m 821ms/step - accuracy: 0.8812 - loss: 0.3564 - val_accuracy: 0.6919 - val_loss: 0.9587\n",
      "Epoch 10/15\n",
      "\u001b[1m313/313\u001b[0m \u001b[32m━━━━━━━━━━━━━━━━━━━━\u001b[0m\u001b[37m\u001b[0m \u001b[1m261s\u001b[0m 833ms/step - accuracy: 0.8919 - loss: 0.3245 - val_accuracy: 0.7430 - val_loss: 0.8484\n",
      "Epoch 11/15\n",
      "\u001b[1m313/313\u001b[0m \u001b[32m━━━━━━━━━━━━━━━━━━━━\u001b[0m\u001b[37m\u001b[0m \u001b[1m261s\u001b[0m 835ms/step - accuracy: 0.9104 - loss: 0.2707 - val_accuracy: 0.7478 - val_loss: 0.9021\n",
      "Epoch 12/15\n",
      "\u001b[1m313/313\u001b[0m \u001b[32m━━━━━━━━━━━━━━━━━━━━\u001b[0m\u001b[37m\u001b[0m \u001b[1m256s\u001b[0m 820ms/step - accuracy: 0.9201 - loss: 0.2365 - val_accuracy: 0.7519 - val_loss: 0.9723\n",
      "Epoch 13/15\n",
      "\u001b[1m313/313\u001b[0m \u001b[32m━━━━━━━━━━━━━━━━━━━━\u001b[0m\u001b[37m\u001b[0m \u001b[1m256s\u001b[0m 817ms/step - accuracy: 0.9300 - loss: 0.2156 - val_accuracy: 0.7306 - val_loss: 1.0009\n",
      "Epoch 14/15\n",
      "\u001b[1m313/313\u001b[0m \u001b[32m━━━━━━━━━━━━━━━━━━━━\u001b[0m\u001b[37m\u001b[0m \u001b[1m256s\u001b[0m 819ms/step - accuracy: 0.9305 - loss: 0.2118 - val_accuracy: 0.7633 - val_loss: 0.8488\n",
      "Epoch 15/15\n",
      "\u001b[1m313/313\u001b[0m \u001b[32m━━━━━━━━━━━━━━━━━━━━\u001b[0m\u001b[37m\u001b[0m \u001b[1m260s\u001b[0m 830ms/step - accuracy: 0.9403 - loss: 0.1868 - val_accuracy: 0.7509 - val_loss: 0.9901\n"
     ]
    },
    {
     "data": {
      "text/plain": [
       "<keras.src.callbacks.history.History at 0x2bc4a2a4830>"
      ]
     },
     "execution_count": 12,
     "metadata": {},
     "output_type": "execute_result"
    }
   ],
   "source": [
    "model.fit(X_train,y_train,\n",
    "          batch_size=128,\n",
    "          epochs=15,\n",
    "          validation_split=0.2,\n",
    "          verbose=1)"
   ]
  },
  {
   "cell_type": "code",
   "execution_count": 14,
   "id": "5fed5549-77b7-4d0f-90b5-c96ce04c2e73",
   "metadata": {},
   "outputs": [
    {
     "name": "stdout",
     "output_type": "stream",
     "text": [
      "\u001b[1m313/313\u001b[0m \u001b[32m━━━━━━━━━━━━━━━━━━━━\u001b[0m\u001b[37m\u001b[0m \u001b[1m18s\u001b[0m 56ms/step - accuracy: 0.7480 - loss: 1.0147\n"
     ]
    }
   ],
   "source": [
    "test_loss,test_accuracy=model.evaluate(X_test,y_test,verbose=1)"
   ]
  },
  {
   "cell_type": "code",
   "execution_count": 15,
   "id": "e1a09961-9976-4659-bb55-f4ed50397c83",
   "metadata": {},
   "outputs": [
    {
     "name": "stdout",
     "output_type": "stream",
     "text": [
      "the test loss is 1.0147335529327393 test accuracy is : 0.7480000257492065\n"
     ]
    }
   ],
   "source": [
    "print(f\"the test loss is {test_loss} test accuracy is : {test_accuracy}\")"
   ]
  },
  {
   "cell_type": "code",
   "execution_count": null,
   "id": "d35a28be-1bb8-4e94-9b0b-615202c06348",
   "metadata": {},
   "outputs": [],
   "source": []
  }
 ],
 "metadata": {
  "kernelspec": {
   "display_name": "Python [conda env:base] *",
   "language": "python",
   "name": "conda-base-py"
  },
  "language_info": {
   "codemirror_mode": {
    "name": "ipython",
    "version": 3
   },
   "file_extension": ".py",
   "mimetype": "text/x-python",
   "name": "python",
   "nbconvert_exporter": "python",
   "pygments_lexer": "ipython3",
   "version": "3.13.5"
  }
 },
 "nbformat": 4,
 "nbformat_minor": 5
}
