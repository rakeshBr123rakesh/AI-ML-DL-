{
 "cells": [
  {
   "cell_type": "markdown",
   "id": "9bb32746-7ff0-47a3-8e57-3e4c5cde9416",
   "metadata": {},
   "source": [
    "## Featuring Engineering : Scaling, Normalization, Standardization\n"
   ]
  },
  {
   "cell_type": "code",
   "execution_count": 1,
   "id": "0c66e407-7bba-42f9-92c9-94efc70d20de",
   "metadata": {},
   "outputs": [
    {
     "data": {
      "text/html": [
       "<div>\n",
       "<style scoped>\n",
       "    .dataframe tbody tr th:only-of-type {\n",
       "        vertical-align: middle;\n",
       "    }\n",
       "\n",
       "    .dataframe tbody tr th {\n",
       "        vertical-align: top;\n",
       "    }\n",
       "\n",
       "    .dataframe thead th {\n",
       "        text-align: right;\n",
       "    }\n",
       "</style>\n",
       "<table border=\"1\" class=\"dataframe\">\n",
       "  <thead>\n",
       "    <tr style=\"text-align: right;\">\n",
       "      <th></th>\n",
       "      <th>LotArea</th>\n",
       "      <th>MSSubClass</th>\n",
       "    </tr>\n",
       "  </thead>\n",
       "  <tbody>\n",
       "    <tr>\n",
       "      <th>0</th>\n",
       "      <td>8450</td>\n",
       "      <td>60</td>\n",
       "    </tr>\n",
       "    <tr>\n",
       "      <th>1</th>\n",
       "      <td>9600</td>\n",
       "      <td>20</td>\n",
       "    </tr>\n",
       "    <tr>\n",
       "      <th>2</th>\n",
       "      <td>11250</td>\n",
       "      <td>60</td>\n",
       "    </tr>\n",
       "    <tr>\n",
       "      <th>3</th>\n",
       "      <td>9550</td>\n",
       "      <td>70</td>\n",
       "    </tr>\n",
       "    <tr>\n",
       "      <th>4</th>\n",
       "      <td>14260</td>\n",
       "      <td>60</td>\n",
       "    </tr>\n",
       "  </tbody>\n",
       "</table>\n",
       "</div>"
      ],
      "text/plain": [
       "   LotArea  MSSubClass\n",
       "0     8450          60\n",
       "1     9600          20\n",
       "2    11250          60\n",
       "3     9550          70\n",
       "4    14260          60"
      ]
     },
     "execution_count": 1,
     "metadata": {},
     "output_type": "execute_result"
    }
   ],
   "source": [
    "# absolute Maximum scaling\n",
    "import pandas as pd\n",
    "import numpy as np\n",
    "df=pd.read_csv(\"C:\\\\Users\\\\Rakesh\\\\Desktop\\\\career\\\\AI ML AND DL Practice\\\\Data\\\\SampleFile.csv\")\n",
    "df.head()"
   ]
  },
  {
   "cell_type": "code",
   "execution_count": 4,
   "id": "f9b55b85-10d3-4a87-bfeb-c0acbdd5e404",
   "metadata": {},
   "outputs": [
    {
     "data": {
      "text/html": [
       "<div>\n",
       "<style scoped>\n",
       "    .dataframe tbody tr th:only-of-type {\n",
       "        vertical-align: middle;\n",
       "    }\n",
       "\n",
       "    .dataframe tbody tr th {\n",
       "        vertical-align: top;\n",
       "    }\n",
       "\n",
       "    .dataframe thead th {\n",
       "        text-align: right;\n",
       "    }\n",
       "</style>\n",
       "<table border=\"1\" class=\"dataframe\">\n",
       "  <thead>\n",
       "    <tr style=\"text-align: right;\">\n",
       "      <th></th>\n",
       "      <th>LotArea</th>\n",
       "      <th>MSSubClass</th>\n",
       "    </tr>\n",
       "  </thead>\n",
       "  <tbody>\n",
       "    <tr>\n",
       "      <th>0</th>\n",
       "      <td>8450</td>\n",
       "      <td>60</td>\n",
       "    </tr>\n",
       "    <tr>\n",
       "      <th>1</th>\n",
       "      <td>9600</td>\n",
       "      <td>20</td>\n",
       "    </tr>\n",
       "    <tr>\n",
       "      <th>2</th>\n",
       "      <td>11250</td>\n",
       "      <td>60</td>\n",
       "    </tr>\n",
       "    <tr>\n",
       "      <th>3</th>\n",
       "      <td>9550</td>\n",
       "      <td>70</td>\n",
       "    </tr>\n",
       "    <tr>\n",
       "      <th>4</th>\n",
       "      <td>14260</td>\n",
       "      <td>60</td>\n",
       "    </tr>\n",
       "  </tbody>\n",
       "</table>\n",
       "</div>"
      ],
      "text/plain": [
       "   LotArea  MSSubClass\n",
       "0     8450          60\n",
       "1     9600          20\n",
       "2    11250          60\n",
       "3     9550          70\n",
       "4    14260          60"
      ]
     },
     "execution_count": 4,
     "metadata": {},
     "output_type": "execute_result"
    }
   ],
   "source": [
    "# To select numerical data\n",
    "df1=df.select_dtypes(include=np.number)\n",
    "df1.head()"
   ]
  },
  {
   "cell_type": "code",
   "execution_count": 5,
   "id": "21e5ba07-0137-4629-a144-3713128b79f6",
   "metadata": {},
   "outputs": [
    {
     "data": {
      "text/html": [
       "<div>\n",
       "<style scoped>\n",
       "    .dataframe tbody tr th:only-of-type {\n",
       "        vertical-align: middle;\n",
       "    }\n",
       "\n",
       "    .dataframe tbody tr th {\n",
       "        vertical-align: top;\n",
       "    }\n",
       "\n",
       "    .dataframe thead th {\n",
       "        text-align: right;\n",
       "    }\n",
       "</style>\n",
       "<table border=\"1\" class=\"dataframe\">\n",
       "  <thead>\n",
       "    <tr style=\"text-align: right;\">\n",
       "      <th></th>\n",
       "      <th>LotArea</th>\n",
       "      <th>MSSubClass</th>\n",
       "    </tr>\n",
       "  </thead>\n",
       "  <tbody>\n",
       "    <tr>\n",
       "      <th>0</th>\n",
       "      <td>0.039258</td>\n",
       "      <td>0.315789</td>\n",
       "    </tr>\n",
       "    <tr>\n",
       "      <th>1</th>\n",
       "      <td>0.044600</td>\n",
       "      <td>0.105263</td>\n",
       "    </tr>\n",
       "    <tr>\n",
       "      <th>2</th>\n",
       "      <td>0.052266</td>\n",
       "      <td>0.315789</td>\n",
       "    </tr>\n",
       "    <tr>\n",
       "      <th>3</th>\n",
       "      <td>0.044368</td>\n",
       "      <td>0.368421</td>\n",
       "    </tr>\n",
       "    <tr>\n",
       "      <th>4</th>\n",
       "      <td>0.066250</td>\n",
       "      <td>0.315789</td>\n",
       "    </tr>\n",
       "  </tbody>\n",
       "</table>\n",
       "</div>"
      ],
      "text/plain": [
       "    LotArea  MSSubClass\n",
       "0  0.039258    0.315789\n",
       "1  0.044600    0.105263\n",
       "2  0.052266    0.315789\n",
       "3  0.044368    0.368421\n",
       "4  0.066250    0.315789"
      ]
     },
     "execution_count": 5,
     "metadata": {},
     "output_type": "execute_result"
    }
   ],
   "source": [
    "# absolute max scaling\n",
    "max_val=np.max(np.abs(df1),axis=0)\n",
    "df2=df1/max_val\n",
    "df2.head()"
   ]
  },
  {
   "cell_type": "code",
   "execution_count": 12,
   "id": "9bfa39e9-7a59-4c6c-aa71-f6072ffd6319",
   "metadata": {},
   "outputs": [
    {
     "data": {
      "text/html": [
       "<div>\n",
       "<style scoped>\n",
       "    .dataframe tbody tr th:only-of-type {\n",
       "        vertical-align: middle;\n",
       "    }\n",
       "\n",
       "    .dataframe tbody tr th {\n",
       "        vertical-align: top;\n",
       "    }\n",
       "\n",
       "    .dataframe thead th {\n",
       "        text-align: right;\n",
       "    }\n",
       "</style>\n",
       "<table border=\"1\" class=\"dataframe\">\n",
       "  <thead>\n",
       "    <tr style=\"text-align: right;\">\n",
       "      <th></th>\n",
       "      <th>LotArea</th>\n",
       "      <th>MSSubClass</th>\n",
       "    </tr>\n",
       "  </thead>\n",
       "  <tbody>\n",
       "    <tr>\n",
       "      <th>0</th>\n",
       "      <td>0.033420</td>\n",
       "      <td>0.235294</td>\n",
       "    </tr>\n",
       "    <tr>\n",
       "      <th>1</th>\n",
       "      <td>0.038795</td>\n",
       "      <td>0.000000</td>\n",
       "    </tr>\n",
       "    <tr>\n",
       "      <th>2</th>\n",
       "      <td>0.046507</td>\n",
       "      <td>0.235294</td>\n",
       "    </tr>\n",
       "    <tr>\n",
       "      <th>3</th>\n",
       "      <td>0.038561</td>\n",
       "      <td>0.294118</td>\n",
       "    </tr>\n",
       "    <tr>\n",
       "      <th>4</th>\n",
       "      <td>0.060576</td>\n",
       "      <td>0.235294</td>\n",
       "    </tr>\n",
       "  </tbody>\n",
       "</table>\n",
       "</div>"
      ],
      "text/plain": [
       "    LotArea  MSSubClass\n",
       "0  0.033420    0.235294\n",
       "1  0.038795    0.000000\n",
       "2  0.046507    0.235294\n",
       "3  0.038561    0.294118\n",
       "4  0.060576    0.235294"
      ]
     },
     "execution_count": 12,
     "metadata": {},
     "output_type": "execute_result"
    }
   ],
   "source": [
    "# MinMaxScaler\n",
    "import pandas as pd\n",
    "from sklearn.preprocessing import MinMaxScaler\n",
    "\n",
    "scaler=MinMaxScaler()\n",
    "\n",
    "df3=scaler.fit_transform(df1)\n",
    "\n",
    "scaled_data=pd.DataFrame(df3,columns=df.columns)\n",
    "df3\n",
    "scaled_data.head()"
   ]
  },
  {
   "cell_type": "code",
   "execution_count": 14,
   "id": "0b4b90de-a55d-4165-b41f-d05a10230cd9",
   "metadata": {},
   "outputs": [
    {
     "name": "stdout",
     "output_type": "stream",
     "text": [
      "Information gain for each feature is :  [0.47718786 0.26229252 0.98145049 0.98739605]\n"
     ]
    }
   ],
   "source": [
    "## Feature selection \n",
    "\n",
    "## Information gain\n",
    "\n",
    "from sklearn.feature_selection import mutual_info_classif\n",
    "from sklearn.datasets import load_iris\n",
    "\n",
    "iris=load_iris()\n",
    "X,Y=iris.data,iris.target\n",
    "IG=mutual_info_classif(X,Y)\n",
    "print(\"Information gain for each feature is : \",IG)"
   ]
  },
  {
   "cell_type": "code",
   "execution_count": 15,
   "id": "93fc5b29-5342-483f-be12-fe6313c1a6c4",
   "metadata": {},
   "outputs": [],
   "source": [
    "# so in bove cell last two features are with good feature for feature selection"
   ]
  },
  {
   "cell_type": "code",
   "execution_count": 17,
   "id": "43e0e679-7826-4a9f-a4ac-b2bd606889ef",
   "metadata": {},
   "outputs": [
    {
     "data": {
      "text/html": [
       "<div>\n",
       "<style scoped>\n",
       "    .dataframe tbody tr th:only-of-type {\n",
       "        vertical-align: middle;\n",
       "    }\n",
       "\n",
       "    .dataframe tbody tr th {\n",
       "        vertical-align: top;\n",
       "    }\n",
       "\n",
       "    .dataframe thead th {\n",
       "        text-align: right;\n",
       "    }\n",
       "</style>\n",
       "<table border=\"1\" class=\"dataframe\">\n",
       "  <thead>\n",
       "    <tr style=\"text-align: right;\">\n",
       "      <th></th>\n",
       "      <th>Pregnancies</th>\n",
       "      <th>Glucose</th>\n",
       "      <th>BloodPressure</th>\n",
       "      <th>SkinThickness</th>\n",
       "      <th>Insulin</th>\n",
       "      <th>BMI</th>\n",
       "      <th>DiabetesPedigreeFunction</th>\n",
       "      <th>Age</th>\n",
       "      <th>Outcome</th>\n",
       "    </tr>\n",
       "  </thead>\n",
       "  <tbody>\n",
       "    <tr>\n",
       "      <th>0</th>\n",
       "      <td>6</td>\n",
       "      <td>148</td>\n",
       "      <td>72</td>\n",
       "      <td>35</td>\n",
       "      <td>0</td>\n",
       "      <td>33.6</td>\n",
       "      <td>0.627</td>\n",
       "      <td>50</td>\n",
       "      <td>1</td>\n",
       "    </tr>\n",
       "    <tr>\n",
       "      <th>1</th>\n",
       "      <td>1</td>\n",
       "      <td>85</td>\n",
       "      <td>66</td>\n",
       "      <td>29</td>\n",
       "      <td>0</td>\n",
       "      <td>26.6</td>\n",
       "      <td>0.351</td>\n",
       "      <td>31</td>\n",
       "      <td>0</td>\n",
       "    </tr>\n",
       "    <tr>\n",
       "      <th>2</th>\n",
       "      <td>8</td>\n",
       "      <td>183</td>\n",
       "      <td>64</td>\n",
       "      <td>0</td>\n",
       "      <td>0</td>\n",
       "      <td>23.3</td>\n",
       "      <td>0.672</td>\n",
       "      <td>32</td>\n",
       "      <td>1</td>\n",
       "    </tr>\n",
       "    <tr>\n",
       "      <th>3</th>\n",
       "      <td>1</td>\n",
       "      <td>89</td>\n",
       "      <td>66</td>\n",
       "      <td>23</td>\n",
       "      <td>94</td>\n",
       "      <td>28.1</td>\n",
       "      <td>0.167</td>\n",
       "      <td>21</td>\n",
       "      <td>0</td>\n",
       "    </tr>\n",
       "    <tr>\n",
       "      <th>4</th>\n",
       "      <td>0</td>\n",
       "      <td>137</td>\n",
       "      <td>40</td>\n",
       "      <td>35</td>\n",
       "      <td>168</td>\n",
       "      <td>43.1</td>\n",
       "      <td>2.288</td>\n",
       "      <td>33</td>\n",
       "      <td>1</td>\n",
       "    </tr>\n",
       "  </tbody>\n",
       "</table>\n",
       "</div>"
      ],
      "text/plain": [
       "   Pregnancies  Glucose  BloodPressure  SkinThickness  Insulin   BMI  \\\n",
       "0            6      148             72             35        0  33.6   \n",
       "1            1       85             66             29        0  26.6   \n",
       "2            8      183             64              0        0  23.3   \n",
       "3            1       89             66             23       94  28.1   \n",
       "4            0      137             40             35      168  43.1   \n",
       "\n",
       "   DiabetesPedigreeFunction  Age  Outcome  \n",
       "0                     0.627   50        1  \n",
       "1                     0.351   31        0  \n",
       "2                     0.672   32        1  \n",
       "3                     0.167   21        0  \n",
       "4                     2.288   33        1  "
      ]
     },
     "execution_count": 17,
     "metadata": {},
     "output_type": "execute_result"
    }
   ],
   "source": [
    "# lets calculate the feature selection with mutual information with diabetes dataset\n",
    "\n",
    "\n",
    "import pandas as pd\n",
    "from sklearn.feature_selection import mutual_info_regression \n",
    "\n",
    "df=pd.read_csv(\"C:\\\\Users\\\\Rakesh\\\\Desktop\\\\career\\\\AI ML AND DL Practice\\\\Data\\\\diabetes.csv\")\n",
    "df.head()"
   ]
  },
  {
   "cell_type": "code",
   "execution_count": 25,
   "id": "0575d339-c278-4b90-bbc5-140a5e48af37",
   "metadata": {},
   "outputs": [],
   "source": [
    "X=df.columns[:-1]"
   ]
  },
  {
   "cell_type": "code",
   "execution_count": null,
   "id": "b33226c0-59bc-412c-bce6-018a0d27a408",
   "metadata": {},
   "outputs": [],
   "source": []
  },
  {
   "cell_type": "code",
   "execution_count": 26,
   "id": "c61c07ca-c7d7-440b-8a81-ca91af468209",
   "metadata": {},
   "outputs": [
    {
     "data": {
      "text/plain": [
       "Index(['Pregnancies', 'Glucose', 'BloodPressure', 'SkinThickness', 'Insulin',\n",
       "       'BMI', 'DiabetesPedigreeFunction', 'Age'],\n",
       "      dtype='object')"
      ]
     },
     "execution_count": 26,
     "metadata": {},
     "output_type": "execute_result"
    }
   ],
   "source": [
    "X"
   ]
  },
  {
   "cell_type": "code",
   "execution_count": 28,
   "id": "ecc5d8cb-1749-480a-acfe-c2a63b37ca2f",
   "metadata": {},
   "outputs": [],
   "source": [
    "x=df[[\"Pregnancies\",\"Glucose\",\"BloodPressure\",\"SkinThickness\",\"Insulin\",\"BMI\",\"DiabetesPedigreeFunction\",\"Age\"]]"
   ]
  },
  {
   "cell_type": "code",
   "execution_count": 29,
   "id": "15825435-0f68-478a-9974-3f199a966459",
   "metadata": {},
   "outputs": [
    {
     "data": {
      "text/html": [
       "<div>\n",
       "<style scoped>\n",
       "    .dataframe tbody tr th:only-of-type {\n",
       "        vertical-align: middle;\n",
       "    }\n",
       "\n",
       "    .dataframe tbody tr th {\n",
       "        vertical-align: top;\n",
       "    }\n",
       "\n",
       "    .dataframe thead th {\n",
       "        text-align: right;\n",
       "    }\n",
       "</style>\n",
       "<table border=\"1\" class=\"dataframe\">\n",
       "  <thead>\n",
       "    <tr style=\"text-align: right;\">\n",
       "      <th></th>\n",
       "      <th>Pregnancies</th>\n",
       "      <th>Glucose</th>\n",
       "      <th>BloodPressure</th>\n",
       "      <th>SkinThickness</th>\n",
       "      <th>Insulin</th>\n",
       "      <th>BMI</th>\n",
       "      <th>DiabetesPedigreeFunction</th>\n",
       "      <th>Age</th>\n",
       "      <th>Outcome</th>\n",
       "    </tr>\n",
       "  </thead>\n",
       "  <tbody>\n",
       "    <tr>\n",
       "      <th>0</th>\n",
       "      <td>6</td>\n",
       "      <td>148</td>\n",
       "      <td>72</td>\n",
       "      <td>35</td>\n",
       "      <td>0</td>\n",
       "      <td>33.6</td>\n",
       "      <td>0.627</td>\n",
       "      <td>50</td>\n",
       "      <td>1</td>\n",
       "    </tr>\n",
       "    <tr>\n",
       "      <th>1</th>\n",
       "      <td>1</td>\n",
       "      <td>85</td>\n",
       "      <td>66</td>\n",
       "      <td>29</td>\n",
       "      <td>0</td>\n",
       "      <td>26.6</td>\n",
       "      <td>0.351</td>\n",
       "      <td>31</td>\n",
       "      <td>0</td>\n",
       "    </tr>\n",
       "    <tr>\n",
       "      <th>2</th>\n",
       "      <td>8</td>\n",
       "      <td>183</td>\n",
       "      <td>64</td>\n",
       "      <td>0</td>\n",
       "      <td>0</td>\n",
       "      <td>23.3</td>\n",
       "      <td>0.672</td>\n",
       "      <td>32</td>\n",
       "      <td>1</td>\n",
       "    </tr>\n",
       "    <tr>\n",
       "      <th>3</th>\n",
       "      <td>1</td>\n",
       "      <td>89</td>\n",
       "      <td>66</td>\n",
       "      <td>23</td>\n",
       "      <td>94</td>\n",
       "      <td>28.1</td>\n",
       "      <td>0.167</td>\n",
       "      <td>21</td>\n",
       "      <td>0</td>\n",
       "    </tr>\n",
       "    <tr>\n",
       "      <th>4</th>\n",
       "      <td>0</td>\n",
       "      <td>137</td>\n",
       "      <td>40</td>\n",
       "      <td>35</td>\n",
       "      <td>168</td>\n",
       "      <td>43.1</td>\n",
       "      <td>2.288</td>\n",
       "      <td>33</td>\n",
       "      <td>1</td>\n",
       "    </tr>\n",
       "  </tbody>\n",
       "</table>\n",
       "</div>"
      ],
      "text/plain": [
       "   Pregnancies  Glucose  BloodPressure  SkinThickness  Insulin   BMI  \\\n",
       "0            6      148             72             35        0  33.6   \n",
       "1            1       85             66             29        0  26.6   \n",
       "2            8      183             64              0        0  23.3   \n",
       "3            1       89             66             23       94  28.1   \n",
       "4            0      137             40             35      168  43.1   \n",
       "\n",
       "   DiabetesPedigreeFunction  Age  Outcome  \n",
       "0                     0.627   50        1  \n",
       "1                     0.351   31        0  \n",
       "2                     0.672   32        1  \n",
       "3                     0.167   21        0  \n",
       "4                     2.288   33        1  "
      ]
     },
     "execution_count": 29,
     "metadata": {},
     "output_type": "execute_result"
    }
   ],
   "source": [
    "x.head()"
   ]
  },
  {
   "cell_type": "code",
   "execution_count": 30,
   "id": "5101c673-de5b-439f-aad5-20c0ae531bd7",
   "metadata": {},
   "outputs": [],
   "source": [
    "y=df[\"Outcome\"]"
   ]
  },
  {
   "cell_type": "code",
   "execution_count": 31,
   "id": "9d4e176e-9c9c-4428-bb77-ec0db9c2ed03",
   "metadata": {},
   "outputs": [
    {
     "data": {
      "text/plain": [
       "0    1\n",
       "1    0\n",
       "2    1\n",
       "3    0\n",
       "4    1\n",
       "Name: Outcome, dtype: int64"
      ]
     },
     "execution_count": 31,
     "metadata": {},
     "output_type": "execute_result"
    }
   ],
   "source": [
    "y.head()"
   ]
  },
  {
   "cell_type": "code",
   "execution_count": 32,
   "id": "5d88f3cf-fd0d-4143-8e43-4d9da9f5c181",
   "metadata": {},
   "outputs": [],
   "source": [
    "mut_inf=mutual_info_regression(x,y)"
   ]
  },
  {
   "cell_type": "code",
   "execution_count": 35,
   "id": "86323e5d-8a47-42a0-9f29-ce1502b9023d",
   "metadata": {},
   "outputs": [
    {
     "name": "stdout",
     "output_type": "stream",
     "text": [
      "Mutual information feature selection values [0.06994263 0.11677579 0.05206869 0.02028978 0.03291827 0.08641876\n",
      " 0.01209445 0.05746485 0.58609704]\n"
     ]
    }
   ],
   "source": [
    "print(\"Mutual information feature selection values\",mut_inf)"
   ]
  },
  {
   "cell_type": "code",
   "execution_count": 36,
   "id": "8eb78932-8afe-4c61-bdea-a7a1d018839c",
   "metadata": {},
   "outputs": [
    {
     "name": "stdout",
     "output_type": "stream",
     "text": [
      "Sample DataFrame:\n",
      "   School ID     Name         Address         City  Subject  Marks  Rank Grade\n",
      "0      101.0    Alice     123 Main St  Los Angeles     Math   85.0     2     B\n",
      "1      102.0      Bob     456 Oak Ave     New York  English   92.0     1     A\n",
      "2      103.0  Charlie     789 Pine Ln      Houston  Science   78.0     4     C\n",
      "3        NaN    David      101 Elm St  Los Angeles     Math   89.0     3     B\n",
      "4      105.0      Eva             NaN        Miami  History    NaN     8     D\n",
      "5      106.0    Frank    222 Maple Rd          NaN     Math   95.0     1     A\n",
      "6      107.0    Grace  444 Cedar Blvd      Houston  Science   80.0     5     C\n",
      "7      108.0    Henry    555 Birch Dr     New York  English   88.0     3     B\n"
     ]
    }
   ],
   "source": [
    "# for handling missing values\n",
    "\n",
    "import pandas as pd\n",
    "import numpy as np\n",
    "\n",
    "data = {\n",
    "    'School ID': [101, 102, 103, np.nan, 105, 106, 107, 108],\n",
    "    'Name': ['Alice', 'Bob', 'Charlie', 'David', 'Eva', 'Frank', 'Grace', 'Henry'],\n",
    "    'Address': ['123 Main St', '456 Oak Ave', '789 Pine Ln', '101 Elm St', np.nan, '222 Maple Rd', '444 Cedar Blvd', '555 Birch Dr'],\n",
    "    'City': ['Los Angeles', 'New York', 'Houston', 'Los Angeles', 'Miami', np.nan, 'Houston', 'New York'],\n",
    "    'Subject': ['Math', 'English', 'Science', 'Math', 'History', 'Math', 'Science', 'English'],\n",
    "    'Marks': [85, 92, 78, 89, np.nan, 95, 80, 88],\n",
    "    'Rank': [2, 1, 4, 3, 8, 1, 5, 3],\n",
    "    'Grade': ['B', 'A', 'C', 'B', 'D', 'A', 'C', 'B']\n",
    "}\n",
    "\n",
    "df = pd.DataFrame(data)\n",
    "print(\"Sample DataFrame:\")\n",
    "\n",
    "print(df)"
   ]
  },
  {
   "cell_type": "code",
   "execution_count": 38,
   "id": "052a1e71-ce21-45c2-a988-669bc20b2c60",
   "metadata": {},
   "outputs": [
    {
     "name": "stdout",
     "output_type": "stream",
     "text": [
      "   School ID     Name         Address         City  Subject  Marks  Rank Grade\n",
      "0      101.0    Alice     123 Main St  Los Angeles     Math   85.0     2     B\n",
      "1      102.0      Bob     456 Oak Ave     New York  English   92.0     1     A\n",
      "2      103.0  Charlie     789 Pine Ln      Houston  Science   78.0     4     C\n",
      "6      107.0    Grace  444 Cedar Blvd      Houston  Science   80.0     5     C\n",
      "7      108.0    Henry    555 Birch Dr     New York  English   88.0     3     B\n"
     ]
    }
   ],
   "source": [
    "# Handling missing values\n",
    "\n",
    "# dropping the row with null values\n",
    "\n",
    "df1=df.dropna()\n",
    "print(df1.head())"
   ]
  },
  {
   "cell_type": "code",
   "execution_count": 39,
   "id": "298bba57-ad56-47b4-926c-a5da983ea2a9",
   "metadata": {},
   "outputs": [],
   "source": [
    "# df2 imputation \n",
    "\n",
    "df2_mean=df[\"Marks\"].fillna(df[\"Marks\"].mean())"
   ]
  },
  {
   "cell_type": "code",
   "execution_count": 40,
   "id": "8151b995-eed5-41c8-b4b0-8eb766abe1d9",
   "metadata": {},
   "outputs": [
    {
     "data": {
      "text/plain": [
       "0    85.000000\n",
       "1    92.000000\n",
       "2    78.000000\n",
       "3    89.000000\n",
       "4    86.714286\n",
       "Name: Marks, dtype: float64"
      ]
     },
     "execution_count": 40,
     "metadata": {},
     "output_type": "execute_result"
    }
   ],
   "source": [
    "df2_mean.head()"
   ]
  },
  {
   "cell_type": "code",
   "execution_count": 42,
   "id": "62541017-397b-4a00-b6b6-67883931aab5",
   "metadata": {},
   "outputs": [
    {
     "data": {
      "text/plain": [
       "0    85.0\n",
       "1    92.0\n",
       "2    78.0\n",
       "3    89.0\n",
       "4    88.0\n",
       "Name: Marks, dtype: float64"
      ]
     },
     "execution_count": 42,
     "metadata": {},
     "output_type": "execute_result"
    }
   ],
   "source": [
    "df2_median=df[\"Marks\"].fillna(df[\"Marks\"].median())\n",
    "df2_median.head()"
   ]
  },
  {
   "cell_type": "code",
   "execution_count": 45,
   "id": "e3a64cd1-edf9-4fb4-8b7b-e807127c50ec",
   "metadata": {},
   "outputs": [],
   "source": [
    "df2_mode=df[\"Marks\"].fillna(df[\"Marks\"].mode().iloc[0])"
   ]
  },
  {
   "cell_type": "code",
   "execution_count": 46,
   "id": "a103d373-22b2-4315-899f-02240c4c7496",
   "metadata": {},
   "outputs": [
    {
     "data": {
      "text/plain": [
       "0    85.0\n",
       "1    92.0\n",
       "2    78.0\n",
       "3    89.0\n",
       "4    78.0\n",
       "Name: Marks, dtype: float64"
      ]
     },
     "execution_count": 46,
     "metadata": {},
     "output_type": "execute_result"
    }
   ],
   "source": [
    "df2_mode.head()"
   ]
  },
  {
   "cell_type": "code",
   "execution_count": 48,
   "id": "07852b94-2515-4557-88bd-1583ebb48685",
   "metadata": {},
   "outputs": [],
   "source": [
    "forward_fill=df[\"Marks\"].bfill()"
   ]
  },
  {
   "cell_type": "code",
   "execution_count": 49,
   "id": "2a4a4fec-eec2-4c15-8c7f-2f7361518c95",
   "metadata": {},
   "outputs": [
    {
     "data": {
      "text/plain": [
       "0    85.0\n",
       "1    92.0\n",
       "2    78.0\n",
       "3    89.0\n",
       "4    95.0\n",
       "Name: Marks, dtype: float64"
      ]
     },
     "execution_count": 49,
     "metadata": {},
     "output_type": "execute_result"
    }
   ],
   "source": [
    "forward_fill.head()"
   ]
  },
  {
   "cell_type": "code",
   "execution_count": 52,
   "id": "f7675735-d04a-406c-9a45-93d51e0ff3cd",
   "metadata": {},
   "outputs": [],
   "source": [
    "backward_fill=df[\"Marks\"].ffill()"
   ]
  },
  {
   "cell_type": "code",
   "execution_count": 54,
   "id": "e4631b84-de90-4220-b8bc-c271c77de073",
   "metadata": {},
   "outputs": [
    {
     "data": {
      "text/plain": [
       "0    85.0\n",
       "1    92.0\n",
       "2    78.0\n",
       "3    89.0\n",
       "4    89.0\n",
       "Name: Marks, dtype: float64"
      ]
     },
     "execution_count": 54,
     "metadata": {},
     "output_type": "execute_result"
    }
   ],
   "source": [
    "backward_fill.head()"
   ]
  },
  {
   "cell_type": "code",
   "execution_count": 60,
   "id": "1e20c01d-5dd0-40ff-977a-e299748e4e0b",
   "metadata": {},
   "outputs": [],
   "source": [
    "linear_interpolation=df[\"Marks\"].interpolate(method=\"linear\")"
   ]
  },
  {
   "cell_type": "code",
   "execution_count": 61,
   "id": "a40b3679-e2e9-46a9-84bf-82136ecb73e5",
   "metadata": {},
   "outputs": [
    {
     "data": {
      "text/plain": [
       "0    85.0\n",
       "1    92.0\n",
       "2    78.0\n",
       "3    89.0\n",
       "4    92.0\n",
       "Name: Marks, dtype: float64"
      ]
     },
     "execution_count": 61,
     "metadata": {},
     "output_type": "execute_result"
    }
   ],
   "source": [
    "linear_interpolation.head()"
   ]
  },
  {
   "cell_type": "code",
   "execution_count": 64,
   "id": "5ab347cf-de29-4b92-9d9d-7617101d31ef",
   "metadata": {},
   "outputs": [
    {
     "data": {
      "text/plain": [
       "0    85.00000\n",
       "1    92.00000\n",
       "2    78.00000\n",
       "3    89.00000\n",
       "4    98.28024\n",
       "Name: Marks, dtype: float64"
      ]
     },
     "execution_count": 64,
     "metadata": {},
     "output_type": "execute_result"
    }
   ],
   "source": [
    "quadratic_interpolation=df[\"Marks\"].interpolate(method=\"quadratic\")\n",
    "quadratic_interpolation.head()"
   ]
  },
  {
   "cell_type": "code",
   "execution_count": null,
   "id": "ace3acb5-3a42-4075-a1ec-e34d14ae718d",
   "metadata": {},
   "outputs": [],
   "source": []
  },
  {
   "cell_type": "code",
   "execution_count": null,
   "id": "e403396c-d62d-4712-8364-1c3ee0b4d184",
   "metadata": {},
   "outputs": [],
   "source": []
  }
 ],
 "metadata": {
  "kernelspec": {
   "display_name": "Python [conda env:base] *",
   "language": "python",
   "name": "conda-base-py"
  },
  "language_info": {
   "codemirror_mode": {
    "name": "ipython",
    "version": 3
   },
   "file_extension": ".py",
   "mimetype": "text/x-python",
   "name": "python",
   "nbconvert_exporter": "python",
   "pygments_lexer": "ipython3",
   "version": "3.13.5"
  }
 },
 "nbformat": 4,
 "nbformat_minor": 5
}
